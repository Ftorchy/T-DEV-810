{
 "cells": [
  {
   "cell_type": "markdown",
   "metadata": {},
   "source": [
    "Dépendances:\n",
    "- opencv-python\n",
    "- numpy\n",
    "- scikit-learn\n",
    "- imbalanced-learn\n",
    "\n",
    "Pour lancer l'installation: \n",
    "pip install opencv-python numpy scikit-learn imbalanced-learn"
   ]
  },
  {
   "cell_type": "code",
   "execution_count": 21,
   "metadata": {},
   "outputs": [],
   "source": [
    "import os\n",
    "import cv2\n",
    "import numpy as np\n",
    "import webbrowser\n",
    "from sklearn.model_selection import train_test_split, GridSearchCV, cross_val_score\n",
    "from sklearn.svm import SVC\n",
    "from sklearn.metrics import accuracy_score, classification_report, confusion_matrix\n",
    "from imblearn.over_sampling import SMOTE\n",
    "from sklearn.preprocessing import StandardScaler"
   ]
  },
  {
   "cell_type": "code",
   "execution_count": 22,
   "metadata": {},
   "outputs": [],
   "source": [
    "def load_images_from_folder(folder):\n",
    "    images = []\n",
    "    for filename in os.listdir(folder):\n",
    "        img = cv2.imread(os.path.join(folder, filename), cv2.IMREAD_GRAYSCALE)  # Lire en niveaux de gris\n",
    "        if img is not None:\n",
    "            # Redimensionner l'image pour avoir une taille uniforme\n",
    "            img = cv2.resize(img, (64, 64))\n",
    "            images.append(img)\n",
    "    return images"
   ]
  },
  {
   "cell_type": "code",
   "execution_count": 23,
   "metadata": {},
   "outputs": [
    {
     "name": "stdout",
     "output_type": "stream",
     "text": [
      "Best parameters found:  {'C': 30, 'gamma': 'scale', 'kernel': 'rbf'}\n",
      "Accuracy: 0.95\n",
      "Classification Report:\n",
      "               precision    recall  f1-score   support\n",
      "\n",
      "      malade       0.96      0.97      0.97      1066\n",
      "      normal       0.92      0.90      0.91       394\n",
      "\n",
      "    accuracy                           0.95      1460\n",
      "   macro avg       0.94      0.93      0.94      1460\n",
      "weighted avg       0.95      0.95      0.95      1460\n",
      "\n",
      "Le fichier HTML a été généré avec succès.\n"
     ]
    },
    {
     "data": {
      "text/plain": [
       "True"
      ]
     },
     "execution_count": 23,
     "metadata": {},
     "output_type": "execute_result"
    }
   ],
   "source": [
    "# Charger les images de chaque classe pour l'entraînement et les tests\n",
    "train_normal_images = load_images_from_folder('./data/chest_Xray/train/NORMAL')\n",
    "train_malade_images = load_images_from_folder('./data/chest_Xray/train/PNEUMONIA')\n",
    "test_normal_images = load_images_from_folder('./data/chest_Xray/test/NORMAL')\n",
    "test_malade_images = load_images_from_folder('./data/chest_Xray/test/PNEUMONIA')\n",
    "\n",
    "# Créer les labels correspondants\n",
    "train_normal_labels = ['normal'] * len(train_normal_images)\n",
    "train_malade_labels = ['malade'] * len(train_malade_images)\n",
    "test_normal_labels = ['normal'] * len(test_normal_images)\n",
    "test_malade_labels = ['malade'] * len(test_malade_images)\n",
    "\n",
    "# Combiner les images et les labels\n",
    "images = train_normal_images + train_malade_images + test_normal_images + test_malade_images\n",
    "labels = train_normal_labels + train_malade_labels + test_normal_labels + test_malade_labels\n",
    "\n",
    "# Convertir les listes en tableaux numpy\n",
    "X = np.array(images)\n",
    "y = np.array(labels)\n",
    "\n",
    "# Aplatir les images pour les rendre compatibles avec l'algorithme SVM\n",
    "X = X.reshape((X.shape[0], -1))\n",
    "\n",
    "# Standardiser les données\n",
    "scaler = StandardScaler()\n",
    "X_scaled = scaler.fit_transform(X)\n",
    "\n",
    "# Séparer les jeux de données en entraînement et test\n",
    "X_train, X_test, y_train, y_test = train_test_split(X_scaled, y, test_size=0.25, stratify=y, random_state=42)\n",
    "\n",
    "# Appliquer SMOTE pour équilibrer les classes dans les données d'entraînement\n",
    "smote = SMOTE(random_state=42)\n",
    "X_train_resampled, y_train_resampled = smote.fit_resample(X_train, y_train)\n",
    "\n",
    "# Définir les hyperparamètres à tester pour GridSearchCV\n",
    "param_grid = {\n",
    "    'C': [30],\n",
    "    'kernel': ['rbf'],\n",
    "    'gamma': ['scale']\n",
    "}\n",
    "\n",
    "# Initialiser GridSearchCV avec le modèle SVM et les paramètres en intégrant la cross-validation\n",
    "grid_search = GridSearchCV(SVC(), param_grid, cv=5, scoring='accuracy')\n",
    "\n",
    "# Entraîner GridSearchCV\n",
    "grid_search.fit(X_train_resampled, y_train_resampled)\n",
    "\n",
    "# Afficher les meilleurs hyperparamètres trouvés pour ajuster\n",
    "best_params = grid_search.best_params_\n",
    "print(\"Best parameters found: \", best_params)\n",
    "\n",
    "# Utiliser le meilleur modèle trouvé pour faire des prédictions\n",
    "best_model = grid_search.best_estimator_\n",
    "\n",
    "# Afficher les résultats sur les données de test\n",
    "y_pred = best_model.predict(X_test)\n",
    "accuracy = accuracy_score(y_test, y_pred)\n",
    "report = classification_report(y_test, y_pred)\n",
    "print(\"Accuracy:\", accuracy)\n",
    "print(\"Classification Report:\\n\", report)\n",
    "\n",
    "# Générer un fichier HTML pour afficher les résultats\n",
    "html_content = f\"\"\"\n",
    "<!DOCTYPE html>\n",
    "<html>\n",
    "<head>\n",
    "    <title>Résultats de la Classification</title>\n",
    "</head>\n",
    "<body>\n",
    "    <h1>Rapport de Classification SVM pour la Pneumonie</h1>\n",
    "    <h2>Meilleurs Hyperparamètres</h2>\n",
    "    <p>{best_params}</p>\n",
    "    <h2>Précision</h2>\n",
    "    <p>{accuracy:.4f}</p>\n",
    "    <h2>Rapport de Classification</h2>\n",
    "    <pre>{report}</pre>\n",
    "</body>\n",
    "</html>\n",
    "\"\"\"\n",
    "\n",
    "# Écrire le contenu HTML dans un fichier\n",
    "\n",
    "html_dir = 'html_files'\n",
    "html_file_path = os.path.join(html_dir, 'classification_report.html')\n",
    "\n",
    "with open(html_file_path, 'w') as file:\n",
    "    file.write(html_content)\n",
    "\n",
    "print(\"Fichier HTML généré avec succès.\")\n",
    "\n",
    "# Ouvrir le fichier HTML dans le navigateur\n",
    "webbrowser.open(f'file://{os.path.realpath(html_file_path)}')"
   ]
  },
  {
   "cell_type": "markdown",
   "metadata": {},
   "source": [
    "C: 30  \n",
    "Gamma: scale\n",
    "Kernel: rbf\n",
    "\n",
    "Malade\n",
    "\n",
    "    precision : Proportion de vrais positifs parmi les exemples classés comme \"malade\".\n",
    "    recall : Proportion de vrais positifs parmi tous les exemples réellement \"malade\".\n",
    "    f1-score : Moyenne harmonique de la précision et du rappel, fournissant un seul score pour évaluer le modèle.\n",
    "    support : Nombre de vrais exemples de la classe \"malade\" dans l'ensemble de test.\n",
    "\n",
    "Normal\n",
    "\n",
    "    precision : Proportion de vrais positifs parmi les exemples classés comme \"normal\".\n",
    "    recall : Proportion de vrais positifs parmi tous les exemples réellement \"normal\".\n",
    "    f1-score : Moyenne harmonique de la précision et du rappel pour la classe \"normal\".\n",
    "    support : Nombre de vrais exemples de la classe \"normal\" dans l'ensemble de test."
   ]
  }
 ],
 "metadata": {
  "kernelspec": {
   "display_name": "Python 3",
   "language": "python",
   "name": "python3"
  },
  "language_info": {
   "codemirror_mode": {
    "name": "ipython",
    "version": 3
   },
   "file_extension": ".py",
   "mimetype": "text/x-python",
   "name": "python",
   "nbconvert_exporter": "python",
   "pygments_lexer": "ipython3",
   "version": "3.12.4"
  }
 },
 "nbformat": 4,
 "nbformat_minor": 2
}
